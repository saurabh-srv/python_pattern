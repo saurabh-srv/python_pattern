{
 "cells": [
  {
   "cell_type": "code",
   "execution_count": 5,
   "id": "51bf1f3b",
   "metadata": {},
   "outputs": [
    {
     "name": "stdout",
     "output_type": "stream",
     "text": [
      "how many names you want to enter 3\n",
      "1 enter your name\n",
      "saurabh\n",
      "2 enter your name\n",
      "saurabh\n",
      "3 enter your name\n",
      "aman\n",
      "aman\n",
      "saurabh\n"
     ]
    }
   ],
   "source": [
    "# 1)python script to remove duplicate string from list of string \n",
    "names = []\n",
    "x = int(input(\"how many names you want to enter \"))\n",
    "for i in range(x):\n",
    "    print(i+1,\"enter your name\")\n",
    "    names.append(input())\n",
    "s = set(names)\n",
    "l = list(s)\n",
    "for j in l :\n",
    "    print(j)"
   ]
  },
  {
   "cell_type": "code",
   "execution_count": null,
   "id": "e0bb8de4",
   "metadata": {},
   "outputs": [],
   "source": []
  }
 ],
 "metadata": {
  "kernelspec": {
   "display_name": "Python 3 (ipykernel)",
   "language": "python",
   "name": "python3"
  },
  "language_info": {
   "codemirror_mode": {
    "name": "ipython",
    "version": 3
   },
   "file_extension": ".py",
   "mimetype": "text/x-python",
   "name": "python",
   "nbconvert_exporter": "python",
   "pygments_lexer": "ipython3",
   "version": "3.9.12"
  }
 },
 "nbformat": 4,
 "nbformat_minor": 5
}
