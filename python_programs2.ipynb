{
 "cells": [
  {
   "cell_type": "code",
   "execution_count": 2,
   "id": "1b3f1d43",
   "metadata": {},
   "outputs": [
    {
     "name": "stdout",
     "output_type": "stream",
     "text": [
      "enter a number4\n",
      "4 is even\n"
     ]
    }
   ],
   "source": [
    "#Write a python script to check whether a given number is even or odd.\n",
    "\n",
    "x= int(input(\"enter a number\"))\n",
    "if x%2==0:\n",
    "    print(x,\"is even\")\n",
    "else :\n",
    "    print(x,\"is odd\")"
   ]
  },
  {
   "cell_type": "code",
   "execution_count": 11,
   "id": "7f3fedbd",
   "metadata": {},
   "outputs": [
    {
     "name": "stdout",
     "output_type": "stream",
     "text": [
      "enter an year2000\n",
      "Leap Year\n"
     ]
    }
   ],
   "source": [
    "#Write a python script to check leap year\n",
    "\n",
    "x=int(input(\"enter an year\"))\n",
    "result= \"Leap Year\" if x%400==0 else \"Leap Year\" if x%4==0 and x%100!=0 else \"no leap year\"\n",
    "print(result)"
   ]
  },
  {
   "cell_type": "code",
   "execution_count": 13,
   "id": "24655e91",
   "metadata": {},
   "outputs": [
    {
     "name": "stdout",
     "output_type": "stream",
     "text": [
      "enter a year1900\n",
      "no leap Year\n"
     ]
    }
   ],
   "source": [
    "x = int(input(\"enter a year\"))\n",
    "if x%400 ==0 :\n",
    "    print(\"leap Year\")\n",
    "elif x%4==0 and x%100!=0:\n",
    "\n",
    "    print(\"leap Year\")\n",
    "else :\n",
    "    print(\"no leap Year\")"
   ]
  },
  {
   "cell_type": "code",
   "execution_count": 14,
   "id": "f254c2cc",
   "metadata": {},
   "outputs": [
    {
     "name": "stdout",
     "output_type": "stream",
     "text": [
      "enter first number100\n",
      "enter second number678\n",
      "Sum of 100 and 678 is 778\n"
     ]
    }
   ],
   "source": [
    "#python script to add two integers. Values taken from user\n",
    "x = int(input(\"enter first number\"))\n",
    "y = int(input(\"enter second number\"))\n",
    "s = x+y \n",
    "print(\"Sum of\",x,\"and\",y,\"is\",s)"
   ]
  },
  {
   "cell_type": "code",
   "execution_count": 17,
   "id": "5247f08b",
   "metadata": {},
   "outputs": [
    {
     "name": "stdout",
     "output_type": "stream",
     "text": [
      "how many names you want to enter3\n",
      "1 enter name\n",
      "yash\n",
      "2 enter name\n",
      "saurabh\n",
      "3 enter name\n",
      "yash\n",
      "yash\n",
      "saurabh\n"
     ]
    }
   ],
   "source": [
    "#python script to remove duplicates from a list of strings\n",
    "names = []\n",
    "n = int(input(\"how many names you want to enter\"))\n",
    "for i in range(n):\n",
    "    print(i+1,\"enter name\")\n",
    "    names.append(input())\n",
    "s=set(names)\n",
    "names=list(s)\n",
    "for x in names:\n",
    "    print(x)\n",
    "    "
   ]
  },
  {
   "cell_type": "code",
   "execution_count": 24,
   "id": "56a6c4cc",
   "metadata": {},
   "outputs": [
    {
     "name": "stdout",
     "output_type": "stream",
     "text": [
      "1 2 3 4 5 6 7 8 9 10 "
     ]
    }
   ],
   "source": [
    "#write a python script to print first 10 natural numbers\n",
    "i = 1\n",
    "while i <= 10:\n",
    "    print(i, end=\" \")\n",
    "    i+=1\n",
    "    "
   ]
  },
  {
   "cell_type": "code",
   "execution_count": 25,
   "id": "3d059716",
   "metadata": {},
   "outputs": [
    {
     "name": "stdout",
     "output_type": "stream",
     "text": [
      "1 2 3 4 5 6 7 8 9 10 "
     ]
    }
   ],
   "source": [
    "for i in range(1,11):\n",
    "    print(i,end=\" \")"
   ]
  },
  {
   "cell_type": "code",
   "execution_count": 26,
   "id": "4e710c08",
   "metadata": {},
   "outputs": [
    {
     "name": "stdout",
     "output_type": "stream",
     "text": [
      "[1, 2, 3, 4, 5, 6, 7, 8, 9, 10]\n"
     ]
    }
   ],
   "source": [
    "print([i for i in range(1,11)])"
   ]
  },
  {
   "cell_type": "code",
   "execution_count": 27,
   "id": "b60a327e",
   "metadata": {},
   "outputs": [
    {
     "name": "stdout",
     "output_type": "stream",
     "text": [
      "10 9 8 7 6 5 4 3 2 1 "
     ]
    }
   ],
   "source": [
    "#write a python script to print first 10 natural numbers in reverse order\n",
    "i = 10\n",
    "while i >= 1:\n",
    "    print(i,end=\" \")\n",
    "    i-=1"
   ]
  },
  {
   "cell_type": "code",
   "execution_count": 31,
   "id": "404f3f18",
   "metadata": {},
   "outputs": [
    {
     "name": "stdout",
     "output_type": "stream",
     "text": [
      "10 9 8 7 6 5 4 3 2 1 "
     ]
    }
   ],
   "source": [
    "for i in range(10,0,-1):\n",
    "    print(i,end=\" \")"
   ]
  },
  {
   "cell_type": "code",
   "execution_count": 33,
   "id": "fb824359",
   "metadata": {},
   "outputs": [
    {
     "name": "stdout",
     "output_type": "stream",
     "text": [
      "[10, 9, 8, 7, 6, 5, 4, 3, 2, 1]\n"
     ]
    }
   ],
   "source": [
    "print([i for i in range(10,0,-1)])"
   ]
  },
  {
   "cell_type": "code",
   "execution_count": null,
   "id": "dc0edba5",
   "metadata": {},
   "outputs": [],
   "source": [
    "#Write a python script to reverse a tuple\n",
    "\n",
    "\n",
    "t = eval(input(\"enter numbers saperated by ','\"))\n",
    "print(\"user entered tuple is\",t)\n",
    "l=list(t)\n",
    "l.reverse()\n",
    "t=tuple(l)\n",
    "print(\"Reverse of tuple is \",t)"
   ]
  }
 ],
 "metadata": {
  "kernelspec": {
   "display_name": "Python 3 (ipykernel)",
   "language": "python",
   "name": "python3"
  },
  "language_info": {
   "codemirror_mode": {
    "name": "ipython",
    "version": 3
   },
   "file_extension": ".py",
   "mimetype": "text/x-python",
   "name": "python",
   "nbconvert_exporter": "python",
   "pygments_lexer": "ipython3",
   "version": "3.9.12"
  }
 },
 "nbformat": 4,
 "nbformat_minor": 5
}
