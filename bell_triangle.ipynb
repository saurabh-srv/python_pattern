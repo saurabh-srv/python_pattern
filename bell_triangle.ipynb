{
 "cells": [
  {
   "cell_type": "code",
   "execution_count": 2,
   "id": "26c2d5c3",
   "metadata": {},
   "outputs": [
    {
     "name": "stdout",
     "output_type": "stream",
     "text": [
      "enter the number of rows7\n",
      "[1]\n",
      "[1, 2]\n",
      "[2, 3, 5]\n",
      "[5, 7, 10, 15]\n",
      "[15, 20, 27, 37, 52]\n",
      "[52, 67, 87, 114, 151, 203]\n",
      "[203, 255, 322, 409, 523, 674, 877]\n"
     ]
    }
   ],
   "source": [
    "l1 = [1]\n",
    "l2 = []\n",
    "\n",
    "for row in range(1,1+int(input(\"enter the number of rows\"))):\n",
    "    l2.append(l1[-1])\n",
    "    for e in l1:\n",
    "        l2.append(e+l2[-1])\n",
    "    print(l1)\n",
    "    l1=list(l2)\n",
    "    l2.clear()"
   ]
  },
  {
   "cell_type": "code",
   "execution_count": null,
   "id": "e6243306",
   "metadata": {},
   "outputs": [],
   "source": []
  }
 ],
 "metadata": {
  "kernelspec": {
   "display_name": "Python 3 (ipykernel)",
   "language": "python",
   "name": "python3"
  },
  "language_info": {
   "codemirror_mode": {
    "name": "ipython",
    "version": 3
   },
   "file_extension": ".py",
   "mimetype": "text/x-python",
   "name": "python",
   "nbconvert_exporter": "python",
   "pygments_lexer": "ipython3",
   "version": "3.9.12"
  }
 },
 "nbformat": 4,
 "nbformat_minor": 5
}
